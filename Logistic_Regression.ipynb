{
 "cells": [
  {
   "cell_type": "markdown",
   "metadata": {},
   "source": [
    "# Machine Learning Logistic Regression"
   ]
  },
  {
   "cell_type": "code",
   "execution_count": 277,
   "metadata": {},
   "outputs": [],
   "source": [
    "import numpy as np\n",
    "%matplotlib inline\n",
    "import matplotlib.pyplot as plt\n",
    "import scipy.optimize as opt\n",
    "plt.style.use('seaborn-whitegrid')"
   ]
  },
  {
   "cell_type": "code",
   "execution_count": 278,
   "metadata": {},
   "outputs": [],
   "source": [
    "data = np.loadtxt(\"data/ex2data1.txt\", delimiter=',')"
   ]
  },
  {
   "cell_type": "code",
   "execution_count": 279,
   "metadata": {},
   "outputs": [],
   "source": [
    "X = data[:,[0,1]]\n",
    "y = data[:, 2]\n",
    "# y = data[:, 2][np.newaxis].T"
   ]
  },
  {
   "cell_type": "markdown",
   "metadata": {},
   "source": [
    "#### Visualizing the data"
   ]
  },
  {
   "cell_type": "code",
   "execution_count": 280,
   "metadata": {},
   "outputs": [
    {
     "data": {
      "image/png": "[encoded data removed]",
      "text/plain": [
       "<Figure size 432x288 with 1 Axes>"
      ]
     },
     "metadata": {},
     "output_type": "display_data"
    }
   ],
   "source": [
    "plt.plot(X[(y==1).nonzero()[0],0], X[(y==1).nonzero()[0],1], 'k+')\n",
    "plt.plot(X[(y==0).nonzero()[0],0], X[(y==0).nonzero()[0],1], 'ko',color=\"green\")\n",
    "plt.show()"
   ]
  },
  {
   "attachments": {
    "image-2.png": {
     "image/png": "[encoded data removed]"
    },
    "image.png": {
     "image/png": "[encoded data removed]"
    }
   },
   "cell_type": "markdown",
   "metadata": {},
   "source": [
    "#### Sigmoid Function\n",
    "![image.png](attachment:image.png)\n",
    "![image-2.png](attachment:image-2.png)"
   ]
  },
  {
   "cell_type": "code",
   "execution_count": 281,
   "metadata": {},
   "outputs": [],
   "source": [
    "def sigmoid(z):\n",
    "    return 1/(1 + np.exp(-z))"
   ]
  },
  {
   "attachments": {
    "image-2.png": {
     "image/png": "[encoded data removed]"
    },
    "image.png": {
     "image/png": "[encoded data removed]"
    }
   },
   "cell_type": "markdown",
   "metadata": {},
   "source": [
    "#### Cost function and gradient\n",
    "![image.png](attachment:image.png)\n",
    "![image-2.png](attachment:image-2.png)"
   ]
  },
  {
   "cell_type": "code",
   "execution_count": 282,
   "metadata": {},
   "outputs": [],
   "source": [
    "def costFunction(theta, X, y, return_grad=False):\n",
    "    m  = len(y)\n",
    "#     theta = theta.reshape((n,1))\n",
    "#     z = X @ theta\n",
    "#     h = sigmoid(z)\n",
    "#     J = (1/m) * np.sum(((-y)*np.log(h)) - ((1-y)*(np.log(1-h))))\n",
    "#     grad = (1/m)* X.T @ (h-y)\n",
    "    one = y * np.transpose(np.log( sigmoid( np.dot(X,theta) ) ))\n",
    "    two = (1-y) * np.transpose(np.log( 1 - sigmoid( np.dot(X,theta) ) ))\n",
    "    J = -(1./m)*(one+two).sum()\n",
    "    \n",
    "    grad = (1./m) * np.dot(sigmoid( np.dot(X,theta) ).T - y, X).T\n",
    "\n",
    "    if return_grad == True:\n",
    "        return J, np.transpose(grad)\n",
    "    elif return_grad == False:\n",
    "        return J # for use in fmin/fmin_bfgs optimization function"
   ]
  },
  {
   "cell_type": "code",
   "execution_count": 283,
   "metadata": {},
   "outputs": [],
   "source": [
    "(m,n) = X.shape\n",
    "X = np.hstack((np.ones((m,1)),X))\n",
    "# X_padded = np.column_stack((np.ones((m,1)), X)) "
   ]
  },
  {
   "cell_type": "code",
   "execution_count": 284,
   "metadata": {},
   "outputs": [
    {
     "name": "stdout",
     "output_type": "stream",
     "text": [
      "0.6931471805599453 [ -0.1        -12.00921659 -11.26284221]\n"
     ]
    }
   ],
   "source": [
    "initial_theta = np.zeros(n+1)\n",
    "(cost, grad) = costFunction(initial_theta, X, y, True)\n",
    "print(cost, grad)"
   ]
  },
  {
   "cell_type": "code",
   "execution_count": 285,
   "metadata": {},
   "outputs": [
    {
     "name": "stdout",
     "output_type": "stream",
     "text": [
      "0.21833019382659774 [0.04290299 2.56623412 2.64679737]\n"
     ]
    }
   ],
   "source": [
    "test_theta = np.array([-24, 0.2, 0.2])\n",
    "(cost, grad) = costFunction(test_theta, X, y, True)\n",
    "print(cost, grad)"
   ]
  },
  {
   "cell_type": "markdown",
   "metadata": {},
   "source": [
    "##### Set options for fminunc\n",
    "options = optimset('GradObj', 'on', 'MaxIter', 400);\n",
    "\n",
    "##### Run fminunc to obtain the optimal theta This function will return theta and the cost.\n",
    "[theta, cost] = fminunc(@(t)(costFunction(t, X, y)), initial theta, options);"
   ]
  },
  {
   "cell_type": "code",
   "execution_count": 295,
   "metadata": {},
   "outputs": [],
   "source": [
    "initial_theta = np.zeros((n+1,1))\n",
    "myargs=(X, y)"
   ]
  },
  {
   "cell_type": "code",
   "execution_count": 297,
   "metadata": {},
   "outputs": [
    {
     "name": "stdout",
     "output_type": "stream",
     "text": [
      "Optimization terminated successfully.\n",
      "         Current function value: 0.203498\n",
      "         Iterations: 157\n",
      "         Function evaluations: 287\n",
      "Optimization terminated successfully.\n",
      "         Current function value: 0.203498\n",
      "         Iterations: 1\n",
      "         Function evaluations: 12\n",
      "         Gradient evaluations: 3\n"
     ]
    }
   ],
   "source": [
    "theta = opt.fmin(costFunction, x0=initial_theta, args=myargs)\n",
    "theta, cost_at_theta, _, _, _, _, _ = opt.fmin_bfgs(costFunction, \n",
    "                                                   x0=theta, args=myargs,\n",
    "                                                    full_output=True)"
   ]
  },
  {
   "cell_type": "code",
   "execution_count": 299,
   "metadata": {},
   "outputs": [
    {
     "name": "stdout",
     "output_type": "stream",
     "text": [
      "0.20349770158972494 [-2.35876134e-08 -4.09400750e-06 -7.86955589e-08]\n"
     ]
    }
   ],
   "source": [
    "(cost, grad) = costFunction(theta, X, y, True)\n",
    "print(cost, grad)"
   ]
  },
  {
   "cell_type": "code",
   "execution_count": 300,
   "metadata": {},
   "outputs": [
    {
     "name": "stdout",
     "output_type": "stream",
     "text": [
      "Cost at theta found by fmin: 0.203498\n",
      "theta:\n",
      "[-25.16130062   0.20623139   0.20147139]\n"
     ]
    }
   ],
   "source": [
    "# Print theta to screen\n",
    "print('Cost at theta found by fmin: {:f}'.format(cost_at_theta))\n",
    "print('theta:'),\n",
    "print(theta)"
   ]
  },
  {
   "cell_type": "markdown",
   "metadata": {},
   "source": [
    "#### Evaluating and Plot the result"
   ]
  },
  {
   "cell_type": "code",
   "execution_count": 225,
   "metadata": {},
   "outputs": [],
   "source": [
    "def plotData(X, y):\n",
    "#   PLOTDATA Plots the data points X and y into a new figure \n",
    "#   PLOTDATA(x,y) plots the data points with + for the positive examples\n",
    "#   and o for the negative examples. X is assumed to be a Mx2 matrix.\n",
    "    import matplotlib.pyplot as plt\n",
    "    import numpy as np\n",
    "\n",
    "    p1 = plt.plot(X[(y==1).nonzero()[0],0], X[(y==1).nonzero()[0],1],  '+', color='k')[0]\n",
    "    p2 = plt.plot(X[(y==0).nonzero()[0],0], X[(y==0).nonzero()[0],1], 'o', color='y')[0]\n",
    "    return plt, p1, p2"
   ]
  },
  {
   "cell_type": "code",
   "execution_count": 226,
   "metadata": {},
   "outputs": [],
   "source": [
    "def plotDecisionBoundary(theta, X, y):\n",
    "#PLOTDECISIONBOUNDARY Plots the data points X and y into a new figure with\n",
    "#the decision boundary defined by theta\n",
    "#   PLOTDECISIONBOUNDARY(theta, X,y) plots the data points with + for the \n",
    "#   positive examples and o for the negative examples. X is assumed to be \n",
    "#   a either \n",
    "#   1) Mx3 matrix, where the first column is an all-ones column for the \n",
    "#      intercept.\n",
    "#   2) MxN, N>3 matrix, where the first column is all-ones    \n",
    "    import matplotlib.pyplot as plt\n",
    "    import numpy as np\n",
    "    # Plot Data\n",
    "    fig = plt.figure()\n",
    "    plt, p1, p2 = plotData(X[:, 1:3], y)\n",
    "#     plt.hold(True)\n",
    "    \n",
    "    if X.shape[1] <= 3:\n",
    "        aa = 0\n",
    "#         Only need 2 points to define a line, so choose two endpoints\n",
    "        plot_x = np.array([min(X[:,1])-2, max(X[:,1])+2])\n",
    "        \n",
    "        # Calculate the decision boundary line\n",
    "        plot_y = (-1./theta[2])*(theta[1]*plot_x + theta[0])\n",
    "        \n",
    "        # Plot, and adjust axes for better viewing\n",
    "        p3 = plt.plot(plot_x, plot_y)\n",
    "        \n",
    "        # Legend, specific for the exercise\n",
    "        plt.legend((p1, p2, p3[0]),\n",
    "                   ('Admitted','Not Admitted', 'Decision Boundary'),\n",
    "                  numpoints=1, handlelength=0.5)\n",
    "        plt.axis([30, 100, 30, 100])\n",
    "        plt.show()\n",
    "    else:\n",
    "        # Here is the grid range\n",
    "        u = np.linspace(-1, 1.5, 50)\n",
    "        v = np.linspace(-1, 1.5, 50)\n",
    "        z = np.zeros((len(u), len(v) ))\n",
    "        \n",
    "        # Evaluate z = theta*x over the grid\n",
    "        for i in range(len(u)):\n",
    "            for j in range(len(v)):\n",
    "                z[i,j] = np.dot(mapFeature(np.array([u[i]]), \n",
    "                                           np.array([v[j]])), theta)\n",
    "        z = np.transpose(z) # important to transpose z before calling contour\n",
    "        \n",
    "        # Plot z = 0\n",
    "        # Notice you need to specify the level 0\n",
    "        # we get collections[0] so that we can display a legend properly\n",
    "        p3 = plt.contour(u, v, z, levels=[0], linewidth=2).collections[0]\n",
    "        \n",
    "        # Legend, specific for the exercise\n",
    "        plt.legend((p1, p2, p3), ('y = 1', 'y = 0', 'Decision Boundary'), \n",
    "                   numpoints=1, handlelength=1)\n",
    "        \n",
    "        plt.show()\n",
    "        \n",
    "#     plt.hold(False) #prevents further drawing on plot"
   ]
  },
  {
   "cell_type": "code",
   "execution_count": 301,
   "metadata": {},
   "outputs": [
    {
     "data": {
      "image/png": "[encoded data removed]",
      "text/plain": [
       "<Figure size 432x288 with 1 Axes>"
      ]
     },
     "metadata": {},
     "output_type": "display_data"
    }
   ],
   "source": [
    "plotDecisionBoundary(theta, X, y)"
   ]
  },
  {
   "cell_type": "markdown",
   "metadata": {},
   "source": [
    "#### Predict and Accuracies"
   ]
  },
  {
   "cell_type": "code",
   "execution_count": 246,
   "metadata": {},
   "outputs": [],
   "source": [
    "def predict(theta, X):\n",
    "    return sigmoid(X@theta) >= 0.5"
   ]
  },
  {
   "cell_type": "code",
   "execution_count": 303,
   "metadata": {},
   "outputs": [
    {
     "name": "stdout",
     "output_type": "stream",
     "text": [
      "For a student with scores 45 and 85, we predict an admission probability of 0.776291\n",
      "Train Accuracy: 89.000000\n"
     ]
    }
   ],
   "source": [
    "prob = sigmoid(np.dot(np.array([1,45,85]),theta))\n",
    "print('For a student with scores 45 and 85, we predict an admission probability of {:f}'.format(prob))\n",
    "\n",
    "# Compute accuracy on our training set\n",
    "p = predict(theta, X)\n",
    "\n",
    "print('Train Accuracy: {:f}'.format(np.mean(p == y) * 100))\n"
   ]
  },
  {
   "cell_type": "markdown",
   "metadata": {},
   "source": [
    "## Regularized logistic regression"
   ]
  },
  {
   "cell_type": "code",
   "execution_count": 84,
   "metadata": {},
   "outputs": [],
   "source": [
    "import numpy as np\n",
    "%matplotlib inline\n",
    "import matplotlib.pyplot as plt\n",
    "plt.style.use('seaborn-whitegrid')"
   ]
  },
  {
   "cell_type": "code",
   "execution_count": 85,
   "metadata": {},
   "outputs": [],
   "source": [
    "data = np.loadtxt(\"data/ex2data2.txt\", delimiter=',')"
   ]
  },
  {
   "cell_type": "code",
   "execution_count": 95,
   "metadata": {},
   "outputs": [
    {
     "data": {
      "image/png": "[encoded data removed]",
      "text/plain": [
       "<Figure size 432x288 with 1 Axes>"
      ]
     },
     "metadata": {},
     "output_type": "display_data"
    }
   ],
   "source": [
    "X = data[:, [0,1]]\n",
    "y = data[:, 2]\n",
    "# y = data[:, 2][np.newaxis].T\n",
    "plotData(X,y)\n",
    "plt.show()"
   ]
  },
  {
   "attachments": {
    "image.png": {
     "image/png": "[encoded data removed]"
    }
   },
   "cell_type": "markdown",
   "metadata": {},
   "source": [
    "#### Feature mapping\n",
    "![image.png](attachment:image.png)"
   ]
  },
  {
   "cell_type": "code",
   "execution_count": 100,
   "metadata": {},
   "outputs": [],
   "source": [
    "def mapFeature(X1, X2):\n",
    "# MAPFEATURE Feature mapping function to polynomial features\n",
    "#\n",
    "#   MAPFEATURE(X1, X2) maps the two input features\n",
    "#   to quadratic features used in the regularization exercise.\n",
    "#\n",
    "#   Returns a new feature array with more features, comprising of \n",
    "#   X1, X2, X1.^2, X2.^2, X1*X2, X1*X2.^2, etc..\n",
    "#   for a total of 1 + 2 + ... + (degree+1) = ((degree+1) * (degree+2)) / 2 columns\n",
    "#\n",
    "#   Inputs X1, X2 must be the same size\n",
    "#\n",
    "    degree = 6\n",
    "    # could also use ((degree+1) * (degree+2)) / 2 instead of sum\n",
    "    out = np.ones((X1.shape[0], sum(range(degree+2)) ))\n",
    "    curr_column = 1\n",
    "    for i in range(1,degree+1):\n",
    "        for j in range(i+1):\n",
    "            out[:, curr_column] = np.power(X1, i-j) * np.power(X2, j)\n",
    "            curr_column += 1\n",
    "    return out"
   ]
  },
  {
   "cell_type": "code",
   "execution_count": 98,
   "metadata": {},
   "outputs": [],
   "source": [
    "# Add Polynomial Features\n",
    "X = mapFeature(X[:,0], X[:,1])"
   ]
  },
  {
   "cell_type": "code",
   "execution_count": 162,
   "metadata": {},
   "outputs": [],
   "source": [
    "# Initialize fitting parameters\n",
    "initial_theta = np.zeros((X.shape[1],1))\n",
    "y = data[:, 2]"
   ]
  },
  {
   "cell_type": "code",
   "execution_count": 163,
   "metadata": {},
   "outputs": [],
   "source": [
    "# Set regularization parameter lambda to 1\n",
    "lambda_ = 1"
   ]
  },
  {
   "cell_type": "code",
   "execution_count": 159,
   "metadata": {},
   "outputs": [],
   "source": [
    "def sigmoid(z):\n",
    "    return 1/(1+ np.exp(-z)) "
   ]
  },
  {
   "attachments": {
    "image-2.png": {
     "image/png": "[encoded data removed]"
    },
    "image-3.png": {
     "image/png": "[encoded data removed]"
    },
    "image.png": {
     "image/png": "[encoded data removed]"
    }
   },
   "cell_type": "markdown",
   "metadata": {},
   "source": [
    "#### Cost function and gradient Regularized\n",
    "![image.png](attachment:image.png)\n",
    "![image-2.png](attachment:image-2.png)\n",
    "![image-3.png](attachment:image-3.png)"
   ]
  },
  {
   "cell_type": "code",
   "execution_count": 164,
   "metadata": {},
   "outputs": [],
   "source": [
    "def costFunctionReg(theta, X, y, lambda_, return_grad=False):\n",
    "    m = len(y)\n",
    "    grad = np.zeros(theta.shape)\n",
    "#     h = sigmoid(X@theta)\n",
    "#     J = (1/m) * np.sum(((-y)*np.log(h)) - ((1-y)*(np.log(1-h))))\\\n",
    "#     + (lambda_ / (2*m))*(theta[1:].T @ theta[1:])\n",
    "#     grad[0] = ((1/m)* X.T @ (h-y))[0]\n",
    "#     grad[1:] = (((1/m)* X.T @ (h-y)) + ((lambda_ / m)*theta))[1:]\n",
    "    one = y * np.transpose(np.log( sigmoid( np.dot(X,theta) ) ))\n",
    "    two = (1-y) * np.transpose(np.log( 1 - sigmoid( np.dot(X,theta) ) ))\n",
    "    reg = ( float(lambda_reg) / (2*m)) * np.power(theta[1:theta.shape[0]],2).sum()\n",
    "    J = -(1./m)*(one+two).sum() + reg\n",
    "\n",
    "    # applies to j = 1,2,...,n - NOT to j = 0\n",
    "    grad = (1./m) * np.dot(sigmoid( np.dot(X,theta) ).T - y, X).T + ( float(lambda_reg) / m )*theta\n",
    "\n",
    "    # the case of j = 0 (recall that grad is a n+1 vector)\n",
    "    # since we already have the whole vectorized version, we use that\n",
    "    grad_no_regularization = (1./m) * np.dot(sigmoid( np.dot(X,theta) ).T - y, X).T\n",
    "\n",
    "    # and then assign only the first element of grad_no_regularization to grad\n",
    "    grad[0] = grad_no_regularization[0]\n",
    "    if return_grad == True:\n",
    "        return J, grad.flatten()\n",
    "    elif return_grad == False:\n",
    "        return J \n",
    "    "
   ]
  },
  {
   "cell_type": "code",
   "execution_count": 165,
   "metadata": {},
   "outputs": [
    {
     "name": "stdout",
     "output_type": "stream",
     "text": [
      "0.6931471805599454 [8.47457627e-03 1.87880932e-02 7.77711864e-05 5.03446395e-02\n",
      " 1.15013308e-02 3.76648474e-02 1.83559872e-02 7.32393391e-03\n",
      " 8.19244468e-03 2.34764889e-02 3.93486234e-02 2.23923907e-03\n",
      " 1.28600503e-02 3.09593720e-03 3.93028171e-02 1.99707467e-02\n",
      " 4.32983232e-03 3.38643902e-03 5.83822078e-03 4.47629067e-03\n",
      " 3.10079849e-02 3.10312442e-02 1.09740238e-03 6.31570797e-03\n",
      " 4.08503006e-04 7.26504316e-03 1.37646175e-03 3.87936363e-02]\n"
     ]
    }
   ],
   "source": [
    "(cost, grad) = costFunctionReg(initial_theta, X, y, lambda_, True)\n",
    "print(cost, grad)"
   ]
  },
  {
   "cell_type": "code",
   "execution_count": 166,
   "metadata": {},
   "outputs": [
    {
     "name": "stdout",
     "output_type": "stream",
     "text": [
      "2.134848314665857 [0.34604507 0.08508073 0.11852457 0.1505916  0.01591449 0.16811439\n",
      " 0.06712094 0.03217053 0.02604321 0.10719727 0.09725885 0.01098433\n",
      " 0.04195657 0.00957212 0.12367776 0.05895534 0.01870409 0.01729323\n",
      " 0.02352665 0.01513039 0.09858123 0.07328323 0.01051447 0.02270567\n",
      " 0.00904832 0.02563548 0.00823079 0.10601204]\n"
     ]
    }
   ],
   "source": [
    "test_theta = np.ones((X.shape[1],1))\n",
    "(cost, grad) = costFunctionReg(test_theta, X, y, 10, True)\n",
    "print(cost, grad)"
   ]
  },
  {
   "cell_type": "code",
   "execution_count": 167,
   "metadata": {},
   "outputs": [
    {
     "name": "stdout",
     "output_type": "stream",
     "text": [
      "Optimization terminated successfully.\n",
      "         Current function value: 0.529003\n",
      "         Iterations: 47\n",
      "         Function evaluations: 1392\n",
      "         Gradient evaluations: 48\n"
     ]
    }
   ],
   "source": [
    "import scipy.optimize as opt\n",
    "# Initialize fitting parameters\n",
    "initial_theta = np.zeros(X.shape[1])\n",
    "# Set regularization parameter lambda to 1\n",
    "lambda_reg = 1\n",
    "# Set Options\n",
    "myargs=(X, y, lambda_reg)\n",
    "result = opt.fmin_bfgs(costFunctionReg, \n",
    "                     x0=initial_theta, args=myargs)"
   ]
  },
  {
   "cell_type": "code",
   "execution_count": 170,
   "metadata": {},
   "outputs": [
    {
     "name": "stdout",
     "output_type": "stream",
     "text": [
      "0.5290027422858311 [-7.42723211e-07  3.52682317e-06 -3.89862588e-07  8.22035800e-06\n",
      " -2.34419901e-06 -3.43893312e-06 -3.37494641e-06  3.97730375e-06\n",
      "  2.09917595e-06  2.59913406e-06 -2.09256132e-06 -3.11131851e-06\n",
      " -3.79232881e-06  6.31643843e-07 -4.86402372e-07 -5.79473686e-06\n",
      "  2.86160120e-06 -2.38501056e-06 -1.62636189e-07  1.20392225e-06\n",
      "  2.20316886e-06 -5.24899058e-06 -1.51642881e-06 -1.79240054e-06\n",
      " -1.19266770e-06 -1.70105148e-06  9.96582060e-08  4.05004174e-07]\n"
     ]
    }
   ],
   "source": [
    "theta_result = result\n",
    "(cost, grad) = costFunctionReg(theta_result, X, y, lambda_, True)\n",
    "print(cost, grad)"
   ]
  },
  {
   "cell_type": "code",
   "execution_count": 201,
   "metadata": {},
   "outputs": [],
   "source": [
    "def plotDecisionBoundary(theta, X, y):\n",
    "#PLOTDECISIONBOUNDARY Plots the data points X and y into a new figure with\n",
    "#the decision boundary defined by theta\n",
    "#   PLOTDECISIONBOUNDARY(theta, X,y) plots the data points with + for the \n",
    "#   positive examples and o for the negative examples. X is assumed to be \n",
    "#   a either \n",
    "#   1) Mx3 matrix, where the first column is an all-ones column for the \n",
    "#      intercept.\n",
    "#   2) MxN, N>3 matrix, where the first column is all-ones    \n",
    "    import matplotlib.pyplot as plt\n",
    "    import numpy as np\n",
    "    # Plot Data\n",
    "    fig = plt.figure()\n",
    "    plt, p1, p2 = plotData(X[:, 1:3], y)\n",
    "#     plt.hold(True)\n",
    "    \n",
    "    if X.shape[1] <= 3:\n",
    "        aa = 0\n",
    "#         Only need 2 points to define a line, so choose two endpoints\n",
    "        plot_x = np.array([min(X[:,1])-2, max(X[:,1])+2])\n",
    "        \n",
    "        # Calculate the decision boundary line\n",
    "        plot_y = (-1./theta[2])*(theta[1]*plot_x + theta[0])\n",
    "        \n",
    "        # Plot, and adjust axes for better viewing\n",
    "        p3 = plt.plot(plot_x, plot_y)\n",
    "        \n",
    "        # Legend, specific for the exercise\n",
    "        plt.legend((p1, p2, p3[0]),\n",
    "                   ('Admitted','Not Admitted', 'Decision Boundary'),\n",
    "                  numpoints=1, handlelength=0.5)\n",
    "        plt.axis([30, 100, 30, 100])\n",
    "        plt.show()\n",
    "    else:\n",
    "        # Here is the grid range\n",
    "        u = np.linspace(-1, 1.5, 50)\n",
    "        v = np.linspace(-1, 1.5, 50)\n",
    "        z = np.zeros((len(u), len(v) ))\n",
    "        \n",
    "        # Evaluate z = theta*x over the grid\n",
    "        for i in range(len(u)):\n",
    "            for j in range(len(v)):\n",
    "                z[i,j] = np.dot(mapFeature(np.array([u[i]]), \n",
    "                                           np.array([v[j]])), theta)\n",
    "        z = np.transpose(z) # important to transpose z before calling contour\n",
    "        \n",
    "        # Plot z = 0\n",
    "        # Notice you need to specify the level 0\n",
    "        # we get collections[0] so that we can display a legend properly\n",
    "#         p3 = plt.contour(u, v, z, levels=[0], linewidth=2).collections[0]\n",
    "        p3 = plt.contour(u, v, z).collections[0]\n",
    "        \n",
    "        # Legend, specific for the exercise\n",
    "        plt.legend((p1, p2, p3), ('y = 1', 'y = 0', 'Decision Boundary'), \n",
    "                   numpoints=1, handlelength=0)\n",
    "        plt.xlabel('Microchip Test 1')\n",
    "        plt.ylabel('Microchip Test 2')\n",
    "        plt.title('lambda = {:f}'.format(lambda_reg))\n",
    "        plt.show()"
   ]
  },
  {
   "cell_type": "code",
   "execution_count": 202,
   "metadata": {},
   "outputs": [
    {
     "data": {
      "image/png": "[encoded data removed]",
      "text/plain": [
       "<Figure size 432x288 with 1 Axes>"
      ]
     },
     "metadata": {},
     "output_type": "display_data"
    }
   ],
   "source": [
    "# # Labels, title and Legend\n",
    "plotDecisionBoundary(theta_result, X, y)"
   ]
  },
  {
   "cell_type": "code",
   "execution_count": 206,
   "metadata": {},
   "outputs": [],
   "source": [
    "def predict(theta, X):\n",
    "    return sigmoid(X@theta) >= 0.5"
   ]
  },
  {
   "cell_type": "markdown",
   "metadata": {},
   "source": [
    "#### Train Accuracy"
   ]
  },
  {
   "cell_type": "code",
   "execution_count": 208,
   "metadata": {},
   "outputs": [
    {
     "name": "stdout",
     "output_type": "stream",
     "text": [
      "83.05084745762711\n"
     ]
    }
   ],
   "source": [
    "p = predict(theta_result, X)\n",
    "accuracy = np.mean(p == y)*100\n",
    "print(accuracy)"
   ]
  }
 ],
 "metadata": {
  "kernelspec": {
   "display_name": "Python 3",
   "language": "python",
   "name": "python3"
  },
  "language_info": {
   "codemirror_mode": {
    "name": "ipython",
    "version": 3
   },
   "file_extension": ".py",
   "mimetype": "text/x-python",
   "name": "python",
   "nbconvert_exporter": "python",
   "pygments_lexer": "ipython3",
   "version": "3.7.2"
  }
 },
 "nbformat": 4,
 "nbformat_minor": 4
}
